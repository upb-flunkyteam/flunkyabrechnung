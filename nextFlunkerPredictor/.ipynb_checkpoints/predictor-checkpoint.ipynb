{
 "cells": [
  {
   "cell_type": "code",
   "execution_count": 1,
   "metadata": {},
   "outputs": [],
   "source": [
    "import pandas as pd\n",
    "import numpy as np\n",
    "from pathlib import Path\n",
    "from collections import defaultdict"
   ]
  },
  {
   "cell_type": "code",
   "execution_count": 3,
   "metadata": {},
   "outputs": [],
   "source": [
    "\"\"\"\n",
    "tid = tournament id \n",
    "pid = player id\n",
    "[beers = number of beers drunken] => unnecessary, due to players are only on the list if they at least drink one bear at a tournament\n",
    "\n",
    "players = defaultdict(float)\n",
    "\n",
    "players[\"10\"] = .32\n",
    "players[\"15\"] = 6.32\n",
    "players[\"14\"] = 9.32\n",
    "players[\"13\"] = 6.322\n",
    "players[\"11\"] = 79.32\n",
    "\n",
    "print(players)\n",
    "\n",
    "https://thispointer.com/python-pandas-how-to-create-dataframe-from-dictionary/ => use players.items()\n",
    "pd.DataFrame(players.items(),columns=[\"pid\",\"ema\"]).sort_values(\"ema\",ascending=False)[0:2]\n",
    "\"\"\"\n",
    "\n",
    "df = pd.read_csv(\"tally.csv\",usecols=['pid','tid'])\n",
    "df = df.sort_values('tid')"
   ]
  },
  {
   "cell_type": "code",
   "execution_count": 13,
   "metadata": {},
   "outputs": [],
   "source": [
    "class Classifier:\n",
    "    def __init__(self,N,alpha,df):\n",
    "        self.N = N\n",
    "        self.alpha = alpha\n",
    "        self.df = df\n",
    "    \n",
    "    def fit(self,tids):\n",
    "        #mapping from playerid => ema value\n",
    "        players = defaultdict(float)\n",
    "        \n",
    "        # iterate over every tournament\n",
    "        for i in np.unique(tids):\n",
    "            \n",
    "            # that tournament\n",
    "            tournament_data = self.df[self.df.tid == i]\n",
    "            \n",
    "            # dont know how good the quality of the data is, but this should not happen anyways\n",
    "            # if len(tournament_data):\n",
    "                \n",
    "            # inc/dec value to every player (regardless of his beer count)\n",
    "            for pid in np.unique(list(tournament_data.pid) + list(players.keys())):\n",
    "                \n",
    "                # either one or zero\n",
    "                attended = len(tournament_data[tournament_data.pid == pid]) \n",
    "                \n",
    "                # update ema\n",
    "                players[int(pid)] = self.alpha * attended + (1-self.alpha) * players[int(pid)]\n",
    "                \n",
    "\n",
    "        self.fitted = pd.DataFrame(players.items(),columns=[\"pid\",\"ema\"])\n",
    "        \n",
    "    def predict(self):\n",
    "        # return last N player with highest ema score\n",
    "        return self.fitted.sort_values(\"ema\",ascending=False)[:self.N]\n",
    "        \n",
    "    def score(self,x):\n",
    "        return len(set(x)-set(self.predict()))"
   ]
  },
  {
   "cell_type": "code",
   "execution_count": 14,
   "metadata": {},
   "outputs": [
    {
     "data": {
      "text/plain": [
       "13.983695652173912"
      ]
     },
     "execution_count": 14,
     "metadata": {},
     "output_type": "execute_result"
    }
   ],
   "source": [
    "clf = Classifier(20,0.16,df)\n",
    "\n",
    "scores = []\n",
    "\n",
    "for tid in sorted(set(df.tid)):\n",
    "    clf.fit(df[df.tid<tid])\n",
    "    scores.append(clf.score(df[df.tid == tid].pid))\n",
    "\n",
    "pd.Series(scores).mean()    "
   ]
  }
 ],
 "metadata": {
  "kernelspec": {
   "display_name": "Python 3",
   "language": "python",
   "name": "python3"
  },
  "language_info": {
   "codemirror_mode": {
    "name": "ipython",
    "version": 3
   },
   "file_extension": ".py",
   "mimetype": "text/x-python",
   "name": "python",
   "nbconvert_exporter": "python",
   "pygments_lexer": "ipython3",
   "version": "3.7.5"
  }
 },
 "nbformat": 4,
 "nbformat_minor": 2
}
