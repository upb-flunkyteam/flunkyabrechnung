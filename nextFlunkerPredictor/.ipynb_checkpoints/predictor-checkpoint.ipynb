{
 "cells": [
  {
   "cell_type": "code",
   "execution_count": 44,
   "metadata": {},
   "outputs": [],
   "source": [
    "import pandas as pd\n",
    "import numpy as np\n",
    "from pathlib import Path\n",
    "from collections import defaultdict"
   ]
  },
  {
   "cell_type": "code",
   "execution_count": 90,
   "metadata": {},
   "outputs": [
    {
     "data": {
      "text/html": [
       "<div>\n",
       "<style scoped>\n",
       "    .dataframe tbody tr th:only-of-type {\n",
       "        vertical-align: middle;\n",
       "    }\n",
       "\n",
       "    .dataframe tbody tr th {\n",
       "        vertical-align: top;\n",
       "    }\n",
       "\n",
       "    .dataframe thead th {\n",
       "        text-align: right;\n",
       "    }\n",
       "</style>\n",
       "<table border=\"1\" class=\"dataframe\">\n",
       "  <thead>\n",
       "    <tr style=\"text-align: right;\">\n",
       "      <th></th>\n",
       "      <th>pid</th>\n",
       "      <th>tid</th>\n",
       "    </tr>\n",
       "  </thead>\n",
       "  <tbody>\n",
       "    <tr>\n",
       "      <th>1314</th>\n",
       "      <td>23</td>\n",
       "      <td>172</td>\n",
       "    </tr>\n",
       "    <tr>\n",
       "      <th>1321</th>\n",
       "      <td>57</td>\n",
       "      <td>172</td>\n",
       "    </tr>\n",
       "    <tr>\n",
       "      <th>1320</th>\n",
       "      <td>59</td>\n",
       "      <td>172</td>\n",
       "    </tr>\n",
       "    <tr>\n",
       "      <th>1319</th>\n",
       "      <td>46</td>\n",
       "      <td>172</td>\n",
       "    </tr>\n",
       "    <tr>\n",
       "      <th>1318</th>\n",
       "      <td>43</td>\n",
       "      <td>172</td>\n",
       "    </tr>\n",
       "    <tr>\n",
       "      <th>1317</th>\n",
       "      <td>35</td>\n",
       "      <td>172</td>\n",
       "    </tr>\n",
       "    <tr>\n",
       "      <th>1316</th>\n",
       "      <td>33</td>\n",
       "      <td>172</td>\n",
       "    </tr>\n",
       "    <tr>\n",
       "      <th>1315</th>\n",
       "      <td>25</td>\n",
       "      <td>172</td>\n",
       "    </tr>\n",
       "    <tr>\n",
       "      <th>1313</th>\n",
       "      <td>22</td>\n",
       "      <td>172</td>\n",
       "    </tr>\n",
       "    <tr>\n",
       "      <th>1312</th>\n",
       "      <td>21</td>\n",
       "      <td>172</td>\n",
       "    </tr>\n",
       "  </tbody>\n",
       "</table>\n",
       "</div>"
      ],
      "text/plain": [
       "      pid  tid\n",
       "1314   23  172\n",
       "1321   57  172\n",
       "1320   59  172\n",
       "1319   46  172\n",
       "1318   43  172\n",
       "1317   35  172\n",
       "1316   33  172\n",
       "1315   25  172\n",
       "1313   22  172\n",
       "1312   21  172"
      ]
     },
     "execution_count": 90,
     "metadata": {},
     "output_type": "execute_result"
    }
   ],
   "source": [
    "\"\"\"\n",
    "tid = tournament id \n",
    "pid = player id\n",
    "[beers = number of beers drunken] => unnecessary, due to players are only on the list if they at least drink one bear at a tournament\n",
    "\n",
    "players = defaultdict(float)\n",
    "\n",
    "players[\"10\"] = .32\n",
    "players[\"15\"] = 6.32\n",
    "players[\"14\"] = 9.32\n",
    "players[\"13\"] = 6.322\n",
    "players[\"11\"] = 79.32\n",
    "\n",
    "print(players)\n",
    "\n",
    "https://thispointer.com/python-pandas-how-to-create-dataframe-from-dictionary/ => use players.items()\n",
    "pd.DataFrame(players.items(),columns=[\"pid\",\"ema\"]).sort_values(\"ema\",ascending=False)[0:2]\n",
    "\"\"\"\n",
    "\n",
    "df = pd.read_csv(\"tally.csv\",usecols=['pid','tid'])\n",
    "df = df.sort_values('tid')\n",
    "df[:10]"
   ]
  },
  {
   "cell_type": "code",
   "execution_count": 102,
   "metadata": {},
   "outputs": [],
   "source": [
    "class Classifier:\n",
    "    def __init__(self,N,alpha,df):\n",
    "        self.N = N\n",
    "        self.alpha = alpha\n",
    "        self.df = df\n",
    "    \n",
    "    def fit(self,tids):\n",
    "        #mapping from playerid => ema value\n",
    "        players = defaultdict(float)\n",
    "        \n",
    "        # iterate over every tournament\n",
    "        for i in np.unique(tids):\n",
    "            \n",
    "            # that tournament\n",
    "            tournament_data = self.df[self.df.tid == i]\n",
    "            \n",
    "            # dont know how good the quality of the data is, but this should not happen anyways\n",
    "            # if len(tournament_data):\n",
    "                \n",
    "            # add value to every player (regardless of his beer count)\n",
    "            for pid in tournament_data.pid:\n",
    "                \n",
    "                # update ema\n",
    "                players[int(pid)] = self.alpha * 1 + (1-self.alpha) * players[int(pid)]\n",
    "        \n",
    "        self.fitted = pd.DataFrame(players.items(),columns=[\"pid\",\"ema\"])\n",
    "        \n",
    "    def predict(self):\n",
    "        # return last N player with highest ema score\n",
    "        return self.fitted.sort_values(\"ema\",ascending=False)[:self.N]\n",
    "        \n",
    "    def score(self,x):\n",
    "        return len(set(x)-set(self.predict()))"
   ]
  },
  {
   "cell_type": "code",
   "execution_count": 103,
   "metadata": {},
   "outputs": [
    {
     "data": {
      "text/plain": [
       "12.96195652173913"
      ]
     },
     "execution_count": 103,
     "metadata": {},
     "output_type": "execute_result"
    }
   ],
   "source": [
    "clf = Classifier(30,0.16,df)\n",
    "\n",
    "scores = []\n",
    "\n",
    "for tid in sorted(set(df.tid)):\n",
    "    clf.fit(df[df.tid<tid])\n",
    "    scores.append(clf.score(df[df.tid == tid+1].pid))\n",
    "\n",
    "pd.Series(scores).mean()    "
   ]
  }
 ],
 "metadata": {
  "kernelspec": {
   "display_name": "Python 3",
   "language": "python",
   "name": "python3"
  },
  "language_info": {
   "codemirror_mode": {
    "name": "ipython",
    "version": 3
   },
   "file_extension": ".py",
   "mimetype": "text/x-python",
   "name": "python",
   "nbconvert_exporter": "python",
   "pygments_lexer": "ipython3",
   "version": "3.7.5"
  }
 },
 "nbformat": 4,
 "nbformat_minor": 2
}
